{
  "nbformat": 4,
  "nbformat_minor": 0,
  "metadata": {
    "colab": {
      "provenance": [],
      "collapsed_sections": []
    },
    "kernelspec": {
      "name": "python3",
      "display_name": "Python 3"
    },
    "language_info": {
      "name": "python"
    }
  },
  "cells": [
    {
      "cell_type": "code",
      "execution_count": null,
      "metadata": {
        "colab": {
          "base_uri": "https://localhost:8080/"
        },
        "id": "A_2lvAv-pnNw",
        "outputId": "a2aeb921-2905-49a8-f605-84fc98463e1b"
      },
      "outputs": [
        {
          "output_type": "stream",
          "name": "stdout",
          "text": [
            "Mounted at /content/drive\n"
          ]
        }
      ],
      "source": [
        "#Code to Import Libraries and Connection to Google Drive\n",
        "import pandas as pd\n",
        "from google.colab import drive\n",
        "drive.mount('/content/drive')\n",
        "path = '/content/drive/MyDrive/Dataset/'"
      ]
    },
    {
      "cell_type": "code",
      "source": [
        "#Main file to do all the Experimentation\n",
        "df_V41 = pd.read_csv(path+'dataV4.1.csv')"
      ],
      "metadata": {
        "colab": {
          "base_uri": "https://localhost:8080/"
        },
        "id": "XvB0zBYxuwPa",
        "outputId": "8987d830-69d5-4fd2-e15e-5ac4057d6f49"
      },
      "execution_count": null,
      "outputs": [
        {
          "output_type": "stream",
          "name": "stderr",
          "text": [
            "/usr/local/lib/python3.7/dist-packages/IPython/core/interactiveshell.py:2882: DtypeWarning: Columns (3) have mixed types.Specify dtype option on import or set low_memory=False.\n",
            "  exec(code_obj, self.user_global_ns, self.user_ns)\n"
          ]
        }
      ]
    },
    {
      "cell_type": "code",
      "source": [
        "df_V5 = df_V41\n",
        "df_V5 = df_V5.iloc[: , 1:]#Removing first Unnamed Column\n",
        "df_V5.info()"
      ],
      "metadata": {
        "colab": {
          "base_uri": "https://localhost:8080/"
        },
        "id": "dbhZLPoXD1Nx",
        "outputId": "00a313bc-f1c8-48be-bdee-798c22104440"
      },
      "execution_count": null,
      "outputs": [
        {
          "output_type": "stream",
          "name": "stdout",
          "text": [
            "<class 'pandas.core.frame.DataFrame'>\n",
            "RangeIndex: 42367 entries, 0 to 42366\n",
            "Data columns (total 15 columns):\n",
            " #   Column                                    Non-Null Count  Dtype \n",
            "---  ------                                    --------------  ----- \n",
            " 0   Age range                                 39887 non-null  object\n",
            " 1   Type                                      42367 non-null  object\n",
            " 2   Part of a policing operation              41249 non-null  object\n",
            " 3   Gender                                    39603 non-null  object\n",
            " 4   Self-defined ethnicity                    42339 non-null  object\n",
            " 5   Officer-defined ethnicity                 40468 non-null  object\n",
            " 6   Legislation                               41892 non-null  object\n",
            " 7   Object of search                          40680 non-null  object\n",
            " 8   Outcome                                   42367 non-null  object\n",
            " 9   Outcome linked to object of search        42367 non-null  bool  \n",
            " 10  Removal of more than just outer clothing  42367 non-null  bool  \n",
            " 11  city                                      38927 non-null  object\n",
            " 12  County                                    38927 non-null  object\n",
            " 13  Year                                      42367 non-null  int64 \n",
            " 14  Date                                      42367 non-null  object\n",
            "dtypes: bool(2), int64(1), object(12)\n",
            "memory usage: 4.3+ MB\n"
          ]
        }
      ]
    },
    {
      "cell_type": "code",
      "source": [
        "#Removing Null Values from Data\n",
        "df_V5 = df_V5.dropna()\n",
        "df_V5.info()"
      ],
      "metadata": {
        "colab": {
          "base_uri": "https://localhost:8080/"
        },
        "id": "YK98eIUmDhg7",
        "outputId": "1b40607b-dbba-46e9-ee65-939241e24d44"
      },
      "execution_count": null,
      "outputs": [
        {
          "output_type": "stream",
          "name": "stdout",
          "text": [
            "<class 'pandas.core.frame.DataFrame'>\n",
            "Int64Index: 33113 entries, 0 to 42366\n",
            "Data columns (total 15 columns):\n",
            " #   Column                                    Non-Null Count  Dtype \n",
            "---  ------                                    --------------  ----- \n",
            " 0   Age range                                 33113 non-null  object\n",
            " 1   Type                                      33113 non-null  object\n",
            " 2   Part of a policing operation              33113 non-null  object\n",
            " 3   Gender                                    33113 non-null  object\n",
            " 4   Self-defined ethnicity                    33113 non-null  object\n",
            " 5   Officer-defined ethnicity                 33113 non-null  object\n",
            " 6   Legislation                               33113 non-null  object\n",
            " 7   Object of search                          33113 non-null  object\n",
            " 8   Outcome                                   33113 non-null  object\n",
            " 9   Outcome linked to object of search        33113 non-null  bool  \n",
            " 10  Removal of more than just outer clothing  33113 non-null  bool  \n",
            " 11  city                                      33113 non-null  object\n",
            " 12  County                                    33113 non-null  object\n",
            " 13  Year                                      33113 non-null  int64 \n",
            " 14  Date                                      33113 non-null  object\n",
            "dtypes: bool(2), int64(1), object(12)\n",
            "memory usage: 3.6+ MB\n"
          ]
        }
      ]
    },
    {
      "cell_type": "code",
      "source": [
        "#chi squared feature selection for categorical data\n",
        "from pandas import read_csv\n",
        "from sklearn.model_selection import train_test_split\n",
        "from sklearn.preprocessing import LabelEncoder\n",
        "from sklearn.preprocessing import OrdinalEncoder\n",
        "from sklearn.feature_selection import SelectKBest\n",
        "from sklearn.feature_selection import chi2\n",
        "from matplotlib import pyplot\n",
        "# prepare input data\n",
        "def prepare_inputs(X_train, X_test):\n",
        "\toe = OrdinalEncoder()\n",
        "\toe.fit(X_train)\n",
        "\tX_train_enc = oe.transform(X_train)\n",
        "\tX_test_enc = oe.transform(X_test)\n",
        "\treturn X_train_enc, X_test_enc\n",
        " \n",
        "# prepare target\n",
        "def prepare_targets(y_train, y_test):\n",
        "\tle = LabelEncoder()\n",
        "\tle.fit(y_train)\n",
        "\ty_train_enc = le.transform(y_train)\n",
        "\ty_test_enc = le.transform(y_test)\n",
        "\treturn y_train_enc, y_test_enc\n",
        "#Feature Selection Method\n",
        "def select_features(X_train, y_train, X_test):\n",
        "\tfs = SelectKBest(score_func=chi2, k='all')\n",
        "\tfs.fit(X_train, y_train)\n",
        "\tX_train_fs = fs.transform(X_train)\n",
        "\tX_test_fs = fs.transform(X_test)\n",
        "\treturn X_train_fs, X_test_fs, fs\n",
        "\n",
        "# Data Split\n",
        "df_V5.info()\n",
        "X = df_V5\n",
        "X = X.drop('Outcome', 1)\n",
        "X = X.drop('Date', 1)\n",
        "X.info()\n",
        "Y = df_V5[['Outcome']]\n",
        "\n",
        " \n",
        "# split into train and test sets\n",
        "X_train, X_test, y_train, y_test = train_test_split(X, Y, test_size=0.20, random_state=1)\n",
        "# prepare input data\n",
        "X_train_enc, X_test_enc = prepare_inputs(X_train, X_test)\n",
        "# prepare output data\n",
        "y_train_enc, y_test_enc = prepare_targets(y_train, y_test)\n",
        "# feature selection\n",
        "X_train_fs, X_test_fs, fs = select_features(X_train_enc, y_train_enc, X_test_enc)\n",
        "# what are scores for the features\n",
        "for i in range(len(fs.scores_)):\n",
        "\tprint('Feature %d: %f' % (i, fs.scores_[i]))\n",
        "# plot the scores\n",
        "pyplot.bar([i for i in range(len(fs.scores_))], fs.scores_)\n",
        "pyplot.show()"
      ],
      "metadata": {
        "colab": {
          "base_uri": "https://localhost:8080/",
          "height": 1000
        },
        "id": "cqkW9xNx15fh",
        "outputId": "9624d5ca-7885-46fc-e6d0-3dafd80c52f3"
      },
      "execution_count": null,
      "outputs": [
        {
          "output_type": "stream",
          "name": "stdout",
          "text": [
            "<class 'pandas.core.frame.DataFrame'>\n",
            "Int64Index: 33113 entries, 0 to 42366\n",
            "Data columns (total 15 columns):\n",
            " #   Column                                    Non-Null Count  Dtype \n",
            "---  ------                                    --------------  ----- \n",
            " 0   Age range                                 33113 non-null  object\n",
            " 1   Type                                      33113 non-null  object\n",
            " 2   Part of a policing operation              33113 non-null  object\n",
            " 3   Gender                                    33113 non-null  object\n",
            " 4   Self-defined ethnicity                    33113 non-null  object\n",
            " 5   Officer-defined ethnicity                 33113 non-null  object\n",
            " 6   Legislation                               33113 non-null  object\n",
            " 7   Object of search                          33113 non-null  object\n",
            " 8   Outcome                                   33113 non-null  object\n",
            " 9   Outcome linked to object of search        33113 non-null  bool  \n",
            " 10  Removal of more than just outer clothing  33113 non-null  bool  \n",
            " 11  city                                      33113 non-null  object\n",
            " 12  County                                    33113 non-null  object\n",
            " 13  Year                                      33113 non-null  int64 \n",
            " 14  Date                                      33113 non-null  object\n",
            "dtypes: bool(2), int64(1), object(12)\n",
            "memory usage: 3.6+ MB\n",
            "<class 'pandas.core.frame.DataFrame'>\n",
            "Int64Index: 33113 entries, 0 to 42366\n",
            "Data columns (total 13 columns):\n",
            " #   Column                                    Non-Null Count  Dtype \n",
            "---  ------                                    --------------  ----- \n",
            " 0   Age range                                 33113 non-null  object\n",
            " 1   Type                                      33113 non-null  object\n",
            " 2   Part of a policing operation              33113 non-null  object\n",
            " 3   Gender                                    33113 non-null  object\n",
            " 4   Self-defined ethnicity                    33113 non-null  object\n",
            " 5   Officer-defined ethnicity                 33113 non-null  object\n",
            " 6   Legislation                               33113 non-null  object\n",
            " 7   Object of search                          33113 non-null  object\n",
            " 8   Outcome linked to object of search        33113 non-null  bool  \n",
            " 9   Removal of more than just outer clothing  33113 non-null  bool  \n",
            " 10  city                                      33113 non-null  object\n",
            " 11  County                                    33113 non-null  object\n",
            " 12  Year                                      33113 non-null  int64 \n",
            "dtypes: bool(2), int64(1), object(10)\n",
            "memory usage: 3.1+ MB\n"
          ]
        },
        {
          "output_type": "stream",
          "name": "stderr",
          "text": [
            "/usr/local/lib/python3.7/dist-packages/ipykernel_launcher.py:35: FutureWarning: In a future version of pandas all arguments of DataFrame.drop except for the argument 'labels' will be keyword-only\n",
            "/usr/local/lib/python3.7/dist-packages/ipykernel_launcher.py:36: FutureWarning: In a future version of pandas all arguments of DataFrame.drop except for the argument 'labels' will be keyword-only\n",
            "/usr/local/lib/python3.7/dist-packages/sklearn/preprocessing/_label.py:98: DataConversionWarning: A column-vector y was passed when a 1d array was expected. Please change the shape of y to (n_samples, ), for example using ravel().\n",
            "  y = column_or_1d(y, warn=True)\n",
            "/usr/local/lib/python3.7/dist-packages/sklearn/preprocessing/_label.py:133: DataConversionWarning: A column-vector y was passed when a 1d array was expected. Please change the shape of y to (n_samples, ), for example using ravel().\n",
            "  y = column_or_1d(y, warn=True)\n"
          ]
        },
        {
          "output_type": "stream",
          "name": "stdout",
          "text": [
            "Feature 0: 211.028949\n",
            "Feature 1: 180.098433\n",
            "Feature 2: 6.175624\n",
            "Feature 3: 2.341964\n",
            "Feature 4: 234.050330\n",
            "Feature 5: 71.898767\n",
            "Feature 6: 167.605752\n",
            "Feature 7: 631.931002\n",
            "Feature 8: 1574.667816\n",
            "Feature 9: 19.308311\n",
            "Feature 10: 57.425284\n",
            "Feature 11: nan\n",
            "Feature 12: 15.442341\n"
          ]
        },
        {
          "output_type": "display_data",
          "data": {
            "text/plain": [
              "<Figure size 432x288 with 1 Axes>"
            ],
            "image/png": "[encoded data removed]"
          },
          "metadata": {
            "needs_background": "light"
          }
        }
      ]
    },
    {
      "cell_type": "code",
      "source": [
        "# what are scores for the features\n",
        "for i in range(len(fs.scores_)):\n",
        "\tprint('Feature %d: %f' % (i, fs.scores_[i]))"
      ],
      "metadata": {
        "colab": {
          "base_uri": "https://localhost:8080/"
        },
        "id": "1xij0dE5HaO_",
        "outputId": "9f8c8807-910d-47b0-f9b6-c3794a45ad77"
      },
      "execution_count": null,
      "outputs": [
        {
          "output_type": "stream",
          "name": "stdout",
          "text": [
            "Feature 0: 211.028949\n",
            "Feature 1: 180.098433\n",
            "Feature 2: 6.175624\n",
            "Feature 3: 2.341964\n",
            "Feature 4: 234.050330\n",
            "Feature 5: 71.898767\n",
            "Feature 6: 167.605752\n",
            "Feature 7: 631.931002\n",
            "Feature 8: 1574.667816\n",
            "Feature 9: 19.308311\n",
            "Feature 10: 57.425284\n",
            "Feature 11: nan\n",
            "Feature 12: 15.442341\n"
          ]
        }
      ]
    },
    {
      "cell_type": "markdown",
      "source": [
        "Combined Image of Feature Score, County is NAN because it only contains 1 Value"
      ],
      "metadata": {
        "id": "ion7YRqvTnta"
      }
    },
    {
      "cell_type": "markdown",
      "source": [
        "![image.png](data:image/png;base64,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)"
      ],
      "metadata": {
        "id": "CTqxtYgPSAYE"
      }
    },
    {
      "cell_type": "markdown",
      "source": [
        "Based on the Feature Score we can Drop The Feature No 2,3,9,11,12 which are: Part of a policing operation,Gender,Removal of more than just outer clothing,County,Year\n",
        "Note: These Features have feature score less than 50\n",
        "\n",
        "After this we will remove the Nulls from other Columns to see what are the results If we can get more rows"
      ],
      "metadata": {
        "id": "Fbp-Pjf2MK0E"
      }
    },
    {
      "cell_type": "code",
      "source": [
        "df_V41.info()\n",
        "df_fs = df_V41[['Age range','Type','Officer-defined ethnicity','Legislation','Object of search','Outcome linked to object of search','city','Outcome']]\n",
        "df_fs.info()#Total 8 Variables\n",
        "#Removing Null values to see if we have more than 33113 rows\n",
        "df_fs = df_fs.dropna()\n",
        "df_fs.info()#By removing the Null values after selecting the features we have 34497 rows instead of 33113 which are 1384 more row\n",
        "X = df_fs[['Age range','Type','Officer-defined ethnicity','Legislation','Object of search','Outcome linked to object of search','city']]\n",
        "Y = df_fs[['Outcome']]\n",
        "X.info()"
      ],
      "metadata": {
        "colab": {
          "base_uri": "https://localhost:8080/"
        },
        "id": "ugCo_88QOYXG",
        "outputId": "0c296839-e166-4714-ba3f-7f0742b848dd"
      },
      "execution_count": null,
      "outputs": [
        {
          "output_type": "stream",
          "name": "stdout",
          "text": [
            "<class 'pandas.core.frame.DataFrame'>\n",
            "RangeIndex: 42367 entries, 0 to 42366\n",
            "Data columns (total 16 columns):\n",
            " #   Column                                    Non-Null Count  Dtype \n",
            "---  ------                                    --------------  ----- \n",
            " 0   Unnamed: 0                                42367 non-null  int64 \n",
            " 1   Age range                                 39887 non-null  object\n",
            " 2   Type                                      42367 non-null  object\n",
            " 3   Part of a policing operation              41249 non-null  object\n",
            " 4   Gender                                    39603 non-null  object\n",
            " 5   Self-defined ethnicity                    42339 non-null  object\n",
            " 6   Officer-defined ethnicity                 40468 non-null  object\n",
            " 7   Legislation                               41892 non-null  object\n",
            " 8   Object of search                          40680 non-null  object\n",
            " 9   Outcome                                   42367 non-null  object\n",
            " 10  Outcome linked to object of search        42367 non-null  bool  \n",
            " 11  Removal of more than just outer clothing  42367 non-null  bool  \n",
            " 12  city                                      38927 non-null  object\n",
            " 13  County                                    38927 non-null  object\n",
            " 14  Year                                      42367 non-null  int64 \n",
            " 15  Date                                      42367 non-null  object\n",
            "dtypes: bool(2), int64(2), object(12)\n",
            "memory usage: 4.6+ MB\n",
            "<class 'pandas.core.frame.DataFrame'>\n",
            "RangeIndex: 42367 entries, 0 to 42366\n",
            "Data columns (total 8 columns):\n",
            " #   Column                              Non-Null Count  Dtype \n",
            "---  ------                              --------------  ----- \n",
            " 0   Age range                           39887 non-null  object\n",
            " 1   Type                                42367 non-null  object\n",
            " 2   Officer-defined ethnicity           40468 non-null  object\n",
            " 3   Legislation                         41892 non-null  object\n",
            " 4   Object of search                    40680 non-null  object\n",
            " 5   Outcome linked to object of search  42367 non-null  bool  \n",
            " 6   city                                38927 non-null  object\n",
            " 7   Outcome                             42367 non-null  object\n",
            "dtypes: bool(1), object(7)\n",
            "memory usage: 2.3+ MB\n",
            "<class 'pandas.core.frame.DataFrame'>\n",
            "Int64Index: 34497 entries, 0 to 42366\n",
            "Data columns (total 8 columns):\n",
            " #   Column                              Non-Null Count  Dtype \n",
            "---  ------                              --------------  ----- \n",
            " 0   Age range                           34497 non-null  object\n",
            " 1   Type                                34497 non-null  object\n",
            " 2   Officer-defined ethnicity           34497 non-null  object\n",
            " 3   Legislation                         34497 non-null  object\n",
            " 4   Object of search                    34497 non-null  object\n",
            " 5   Outcome linked to object of search  34497 non-null  bool  \n",
            " 6   city                                34497 non-null  object\n",
            " 7   Outcome                             34497 non-null  object\n",
            "dtypes: bool(1), object(7)\n",
            "memory usage: 2.1+ MB\n",
            "<class 'pandas.core.frame.DataFrame'>\n",
            "Int64Index: 34497 entries, 0 to 42366\n",
            "Data columns (total 7 columns):\n",
            " #   Column                              Non-Null Count  Dtype \n",
            "---  ------                              --------------  ----- \n",
            " 0   Age range                           34497 non-null  object\n",
            " 1   Type                                34497 non-null  object\n",
            " 2   Officer-defined ethnicity           34497 non-null  object\n",
            " 3   Legislation                         34497 non-null  object\n",
            " 4   Object of search                    34497 non-null  object\n",
            " 5   Outcome linked to object of search  34497 non-null  bool  \n",
            " 6   city                                34497 non-null  object\n",
            "dtypes: bool(1), object(6)\n",
            "memory usage: 1.9+ MB\n"
          ]
        }
      ]
    },
    {
      "cell_type": "code",
      "source": [
        "from xgboost import XGBClassifier\n",
        "from sklearn.model_selection import train_test_split\n",
        "from sklearn.metrics import accuracy_score\n",
        "import numpy as np"
      ],
      "metadata": {
        "id": "m6mlTh8rvdLH"
      },
      "execution_count": null,
      "outputs": []
    },
    {
      "cell_type": "markdown",
      "source": [
        "Model Experimentation"
      ],
      "metadata": {
        "id": "yf47Ne0lLyzQ"
      }
    },
    {
      "cell_type": "code",
      "source": [
        "#ONE Hot Encoding Class Modification\n",
        "from sklearn.preprocessing import OneHotEncoder as SklearnOneHotEncoder\n",
        "class OneHotEncoder(SklearnOneHotEncoder):\n",
        "    def __init__(self, **kwargs):\n",
        "        super(OneHotEncoder, self).__init__(**kwargs)\n",
        "        self.fit_flag = False\n",
        "\n",
        "    def fit(self, X, **kwargs):\n",
        "        out = super().fit(X)\n",
        "        self.fit_flag = True\n",
        "        return out\n",
        "\n",
        "    def transform(self, X, **kwargs):\n",
        "        sparse_matrix = super(OneHotEncoder, self).transform(X)\n",
        "        new_columns = self.get_new_columns(X=X)\n",
        "        d_out = pd.DataFrame(sparse_matrix.toarray(), columns=new_columns, index=X.index)\n",
        "        return d_out\n",
        "    def get_new_columns(self, X):\n",
        "        new_columns = []\n",
        "        for i, column in enumerate(X.columns):\n",
        "            j = 0\n",
        "            while j < len(self.categories_[i]):\n",
        "                new_columns.append(f'{column}_{self.categories_[i][j]}')\n",
        "                j += 1\n",
        "        return new_columns\n",
        "\n",
        "    def fit_transform(self, X, **kwargs):\n",
        "        self.fit(X)\n",
        "        return self.transform(X)    \n"
      ],
      "metadata": {
        "id": "VE_v1-stsGK8"
      },
      "execution_count": null,
      "outputs": []
    },
    {
      "cell_type": "code",
      "source": [
        "encoder = OneHotEncoder()\n",
        "onehot_encoded_X = encoder.fit_transform(X)\n",
        "onehot_encoded_X.info()\n",
        "onehot_encoded_X.head()\n",
        "# onehot_encoded_Y = encoder.fit_transform(Y)"
      ],
      "metadata": {
        "colab": {
          "base_uri": "https://localhost:8080/",
          "height": 1000
        },
        "id": "uJkXR-sDsdaw",
        "outputId": "27b80877-2801-4c2e-bebf-55259b898eec"
      },
      "execution_count": null,
      "outputs": [
        {
          "output_type": "stream",
          "name": "stdout",
          "text": [
            "<class 'pandas.core.frame.DataFrame'>\n",
            "Int64Index: 34497 entries, 0 to 42366\n",
            "Data columns (total 32 columns):\n",
            " #   Column                                                         Non-Null Count  Dtype  \n",
            "---  ------                                                         --------------  -----  \n",
            " 0   Age range_10-17                                                34497 non-null  float64\n",
            " 1   Age range_18-24                                                34497 non-null  float64\n",
            " 2   Age range_25-34                                                34497 non-null  float64\n",
            " 3   Age range_over 34                                              34497 non-null  float64\n",
            " 4   Age range_under 10                                             34497 non-null  float64\n",
            " 5   Type_Person and Vehicle search                                 34497 non-null  float64\n",
            " 6   Type_Person search                                             34497 non-null  float64\n",
            " 7   Officer-defined ethnicity_Asian                                34497 non-null  float64\n",
            " 8   Officer-defined ethnicity_Black                                34497 non-null  float64\n",
            " 9   Officer-defined ethnicity_Other                                34497 non-null  float64\n",
            " 10  Officer-defined ethnicity_White                                34497 non-null  float64\n",
            " 11  Legislation_Firearms Act 1968 (section 47)                     34497 non-null  float64\n",
            " 12  Legislation_Misuse of Drugs Act 1971 (section 23)              34497 non-null  float64\n",
            " 13  Legislation_Police and Criminal Evidence Act 1984 (section 1)  34497 non-null  float64\n",
            " 14  Object of search_Article for use in theft                      34497 non-null  float64\n",
            " 15  Object of search_Articles for use in criminal damage           34497 non-null  float64\n",
            " 16  Object of search_Controlled drugs                              34497 non-null  float64\n",
            " 17  Object of search_Evidence of offences under the Act            34497 non-null  float64\n",
            " 18  Object of search_Firearms                                      34497 non-null  float64\n",
            " 19  Object of search_Fireworks                                     34497 non-null  float64\n",
            " 20  Object of search_Offensive weapons                             34497 non-null  float64\n",
            " 21  Object of search_Psychoactive substances                       34497 non-null  float64\n",
            " 22  Object of search_Stolen goods                                  34497 non-null  float64\n",
            " 23  Outcome linked to object of search_False                       34497 non-null  float64\n",
            " 24  Outcome linked to object of search_True                        34497 non-null  float64\n",
            " 25  city_Bradford                                                  34497 non-null  float64\n",
            " 26  city_Calderdale                                                34497 non-null  float64\n",
            " 27  city_Craven                                                    34497 non-null  float64\n",
            " 28  city_Doncaster                                                 34497 non-null  float64\n",
            " 29  city_Kirklees                                                  34497 non-null  float64\n",
            " 30  city_Leeds                                                     34497 non-null  float64\n",
            " 31  city_Wakefield                                                 34497 non-null  float64\n",
            "dtypes: float64(32)\n",
            "memory usage: 8.7 MB\n"
          ]
        },
        {
          "output_type": "execute_result",
          "data": {
            "text/plain": [
              "   Age range_10-17  Age range_18-24  Age range_25-34  Age range_over 34  \\\n",
              "0              0.0              1.0              0.0                0.0   \n",
              "1              0.0              1.0              0.0                0.0   \n",
              "3              0.0              0.0              1.0                0.0   \n",
              "4              1.0              0.0              0.0                0.0   \n",
              "5              1.0              0.0              0.0                0.0   \n",
              "\n",
              "   Age range_under 10  Type_Person and Vehicle search  Type_Person search  \\\n",
              "0                 0.0                             0.0                 1.0   \n",
              "1                 0.0                             0.0                 1.0   \n",
              "3                 0.0                             0.0                 1.0   \n",
              "4                 0.0                             0.0                 1.0   \n",
              "5                 0.0                             0.0                 1.0   \n",
              "\n",
              "   Officer-defined ethnicity_Asian  Officer-defined ethnicity_Black  \\\n",
              "0                              0.0                              0.0   \n",
              "1                              0.0                              0.0   \n",
              "3                              1.0                              0.0   \n",
              "4                              0.0                              0.0   \n",
              "5                              0.0                              0.0   \n",
              "\n",
              "   Officer-defined ethnicity_Other  ...  Object of search_Stolen goods  \\\n",
              "0                              0.0  ...                            0.0   \n",
              "1                              0.0  ...                            0.0   \n",
              "3                              0.0  ...                            0.0   \n",
              "4                              0.0  ...                            0.0   \n",
              "5                              0.0  ...                            0.0   \n",
              "\n",
              "   Outcome linked to object of search_False  \\\n",
              "0                                       0.0   \n",
              "1                                       0.0   \n",
              "3                                       0.0   \n",
              "4                                       0.0   \n",
              "5                                       0.0   \n",
              "\n",
              "   Outcome linked to object of search_True  city_Bradford  city_Calderdale  \\\n",
              "0                                      1.0            0.0              0.0   \n",
              "1                                      1.0            0.0              0.0   \n",
              "3                                      1.0            1.0              0.0   \n",
              "4                                      1.0            0.0              1.0   \n",
              "5                                      1.0            0.0              1.0   \n",
              "\n",
              "   city_Craven  city_Doncaster  city_Kirklees  city_Leeds  city_Wakefield  \n",
              "0          0.0             0.0            0.0         0.0             1.0  \n",
              "1          0.0             0.0            0.0         0.0             1.0  \n",
              "3          0.0             0.0            0.0         0.0             0.0  \n",
              "4          0.0             0.0            0.0         0.0             0.0  \n",
              "5          0.0             0.0            0.0         0.0             0.0  \n",
              "\n",
              "[5 rows x 32 columns]"
            ],
            "text/html": [
              "\n",
              "  <div id=\"df-bea1ceaf-faa9-4d4c-bbf9-3e9a94f64d65\">\n",
              "    <div class=\"colab-df-container\">\n",
              "      <div>\n",
              "<style scoped>\n",
              "    .dataframe tbody tr th:only-of-type {\n",
              "        vertical-align: middle;\n",
              "    }\n",
              "\n",
              "    .dataframe tbody tr th {\n",
              "        vertical-align: top;\n",
              "    }\n",
              "\n",
              "    .dataframe thead th {\n",
              "        text-align: right;\n",
              "    }\n",
              "</style>\n",
              "<table border=\"1\" class=\"dataframe\">\n",
              "  <thead>\n",
              "    <tr style=\"text-align: right;\">\n",
              "      <th></th>\n",
              "      <th>Age range_10-17</th>\n",
              "      <th>Age range_18-24</th>\n",
              "      <th>Age range_25-34</th>\n",
              "      <th>Age range_over 34</th>\n",
              "      <th>Age range_under 10</th>\n",
              "      <th>Type_Person and Vehicle search</th>\n",
              "      <th>Type_Person search</th>\n",
              "      <th>Officer-defined ethnicity_Asian</th>\n",
              "      <th>Officer-defined ethnicity_Black</th>\n",
              "      <th>Officer-defined ethnicity_Other</th>\n",
              "      <th>...</th>\n",
              "      <th>Object of search_Stolen goods</th>\n",
              "      <th>Outcome linked to object of search_False</th>\n",
              "      <th>Outcome linked to object of search_True</th>\n",
              "      <th>city_Bradford</th>\n",
              "      <th>city_Calderdale</th>\n",
              "      <th>city_Craven</th>\n",
              "      <th>city_Doncaster</th>\n",
              "      <th>city_Kirklees</th>\n",
              "      <th>city_Leeds</th>\n",
              "      <th>city_Wakefield</th>\n",
              "    </tr>\n",
              "  </thead>\n",
              "  <tbody>\n",
              "    <tr>\n",
              "      <th>0</th>\n",
              "      <td>0.0</td>\n",
              "      <td>1.0</td>\n",
              "      <td>0.0</td>\n",
              "      <td>0.0</td>\n",
              "      <td>0.0</td>\n",
              "      <td>0.0</td>\n",
              "      <td>1.0</td>\n",
              "      <td>0.0</td>\n",
              "      <td>0.0</td>\n",
              "      <td>0.0</td>\n",
              "      <td>...</td>\n",
              "      <td>0.0</td>\n",
              "      <td>0.0</td>\n",
              "      <td>1.0</td>\n",
              "      <td>0.0</td>\n",
              "      <td>0.0</td>\n",
              "      <td>0.0</td>\n",
              "      <td>0.0</td>\n",
              "      <td>0.0</td>\n",
              "      <td>0.0</td>\n",
              "      <td>1.0</td>\n",
              "    </tr>\n",
              "    <tr>\n",
              "      <th>1</th>\n",
              "      <td>0.0</td>\n",
              "      <td>1.0</td>\n",
              "      <td>0.0</td>\n",
              "      <td>0.0</td>\n",
              "      <td>0.0</td>\n",
              "      <td>0.0</td>\n",
              "      <td>1.0</td>\n",
              "      <td>0.0</td>\n",
              "      <td>0.0</td>\n",
              "      <td>0.0</td>\n",
              "      <td>...</td>\n",
              "      <td>0.0</td>\n",
              "      <td>0.0</td>\n",
              "      <td>1.0</td>\n",
              "      <td>0.0</td>\n",
              "      <td>0.0</td>\n",
              "      <td>0.0</td>\n",
              "      <td>0.0</td>\n",
              "      <td>0.0</td>\n",
              "      <td>0.0</td>\n",
              "      <td>1.0</td>\n",
              "    </tr>\n",
              "    <tr>\n",
              "      <th>3</th>\n",
              "      <td>0.0</td>\n",
              "      <td>0.0</td>\n",
              "      <td>1.0</td>\n",
              "      <td>0.0</td>\n",
              "      <td>0.0</td>\n",
              "      <td>0.0</td>\n",
              "      <td>1.0</td>\n",
              "      <td>1.0</td>\n",
              "      <td>0.0</td>\n",
              "      <td>0.0</td>\n",
              "      <td>...</td>\n",
              "      <td>0.0</td>\n",
              "      <td>0.0</td>\n",
              "      <td>1.0</td>\n",
              "      <td>1.0</td>\n",
              "      <td>0.0</td>\n",
              "      <td>0.0</td>\n",
              "      <td>0.0</td>\n",
              "      <td>0.0</td>\n",
              "      <td>0.0</td>\n",
              "      <td>0.0</td>\n",
              "    </tr>\n",
              "    <tr>\n",
              "      <th>4</th>\n",
              "      <td>1.0</td>\n",
              "      <td>0.0</td>\n",
              "      <td>0.0</td>\n",
              "      <td>0.0</td>\n",
              "      <td>0.0</td>\n",
              "      <td>0.0</td>\n",
              "      <td>1.0</td>\n",
              "      <td>0.0</td>\n",
              "      <td>0.0</td>\n",
              "      <td>0.0</td>\n",
              "      <td>...</td>\n",
              "      <td>0.0</td>\n",
              "      <td>0.0</td>\n",
              "      <td>1.0</td>\n",
              "      <td>0.0</td>\n",
              "      <td>1.0</td>\n",
              "      <td>0.0</td>\n",
              "      <td>0.0</td>\n",
              "      <td>0.0</td>\n",
              "      <td>0.0</td>\n",
              "      <td>0.0</td>\n",
              "    </tr>\n",
              "    <tr>\n",
              "      <th>5</th>\n",
              "      <td>1.0</td>\n",
              "      <td>0.0</td>\n",
              "      <td>0.0</td>\n",
              "      <td>0.0</td>\n",
              "      <td>0.0</td>\n",
              "      <td>0.0</td>\n",
              "      <td>1.0</td>\n",
              "      <td>0.0</td>\n",
              "      <td>0.0</td>\n",
              "      <td>0.0</td>\n",
              "      <td>...</td>\n",
              "      <td>0.0</td>\n",
              "      <td>0.0</td>\n",
              "      <td>1.0</td>\n",
              "      <td>0.0</td>\n",
              "      <td>1.0</td>\n",
              "      <td>0.0</td>\n",
              "      <td>0.0</td>\n",
              "      <td>0.0</td>\n",
              "      <td>0.0</td>\n",
              "      <td>0.0</td>\n",
              "    </tr>\n",
              "  </tbody>\n",
              "</table>\n",
              "<p>5 rows × 32 columns</p>\n",
              "</div>\n",
              "      <button class=\"colab-df-convert\" onclick=\"convertToInteractive('df-bea1ceaf-faa9-4d4c-bbf9-3e9a94f64d65')\"\n",
              "              title=\"Convert this dataframe to an interactive table.\"\n",
              "              style=\"display:none;\">\n",
              "        \n",
              "  <svg xmlns=\"http://www.w3.org/2000/svg\" height=\"24px\"viewBox=\"0 0 24 24\"\n",
              "       width=\"24px\">\n",
              "    <path d=\"M0 0h24v24H0V0z\" fill=\"none\"/>\n",
              "    <path d=\"M18.56 5.44l.94 2.06.94-2.06 2.06-.94-2.06-.94-.94-2.06-.94 2.06-2.06.94zm-11 1L8.5 8.5l.94-2.06 2.06-.94-2.06-.94L8.5 2.5l-.94 2.06-2.06.94zm10 10l.94 2.06.94-2.06 2.06-.94-2.06-.94-.94-2.06-.94 2.06-2.06.94z\"/><path d=\"M17.41 7.96l-1.37-1.37c-.4-.4-.92-.59-1.43-.59-.52 0-1.04.2-1.43.59L10.3 9.45l-7.72 7.72c-.78.78-.78 2.05 0 2.83L4 21.41c.39.39.9.59 1.41.59.51 0 1.02-.2 1.41-.59l7.78-7.78 2.81-2.81c.8-.78.8-2.07 0-2.86zM5.41 20L4 18.59l7.72-7.72 1.47 1.35L5.41 20z\"/>\n",
              "  </svg>\n",
              "      </button>\n",
              "      \n",
              "  <style>\n",
              "    .colab-df-container {\n",
              "      display:flex;\n",
              "      flex-wrap:wrap;\n",
              "      gap: 12px;\n",
              "    }\n",
              "\n",
              "    .colab-df-convert {\n",
              "      background-color: #E8F0FE;\n",
              "      border: none;\n",
              "      border-radius: 50%;\n",
              "      cursor: pointer;\n",
              "      display: none;\n",
              "      fill: #1967D2;\n",
              "      height: 32px;\n",
              "      padding: 0 0 0 0;\n",
              "      width: 32px;\n",
              "    }\n",
              "\n",
              "    .colab-df-convert:hover {\n",
              "      background-color: #E2EBFA;\n",
              "      box-shadow: 0px 1px 2px rgba(60, 64, 67, 0.3), 0px 1px 3px 1px rgba(60, 64, 67, 0.15);\n",
              "      fill: #174EA6;\n",
              "    }\n",
              "\n",
              "    [theme=dark] .colab-df-convert {\n",
              "      background-color: #3B4455;\n",
              "      fill: #D2E3FC;\n",
              "    }\n",
              "\n",
              "    [theme=dark] .colab-df-convert:hover {\n",
              "      background-color: #434B5C;\n",
              "      box-shadow: 0px 1px 3px 1px rgba(0, 0, 0, 0.15);\n",
              "      filter: drop-shadow(0px 1px 2px rgba(0, 0, 0, 0.3));\n",
              "      fill: #FFFFFF;\n",
              "    }\n",
              "  </style>\n",
              "\n",
              "      <script>\n",
              "        const buttonEl =\n",
              "          document.querySelector('#df-bea1ceaf-faa9-4d4c-bbf9-3e9a94f64d65 button.colab-df-convert');\n",
              "        buttonEl.style.display =\n",
              "          google.colab.kernel.accessAllowed ? 'block' : 'none';\n",
              "\n",
              "        async function convertToInteractive(key) {\n",
              "          const element = document.querySelector('#df-bea1ceaf-faa9-4d4c-bbf9-3e9a94f64d65');\n",
              "          const dataTable =\n",
              "            await google.colab.kernel.invokeFunction('convertToInteractive',\n",
              "                                                     [key], {});\n",
              "          if (!dataTable) return;\n",
              "\n",
              "          const docLinkHtml = 'Like what you see? Visit the ' +\n",
              "            '<a target=\"_blank\" href=https://colab.research.google.com/notebooks/data_table.ipynb>data table notebook</a>'\n",
              "            + ' to learn more about interactive tables.';\n",
              "          element.innerHTML = '';\n",
              "          dataTable['output_type'] = 'display_data';\n",
              "          await google.colab.output.renderOutput(dataTable, element);\n",
              "          const docLink = document.createElement('div');\n",
              "          docLink.innerHTML = docLinkHtml;\n",
              "          element.appendChild(docLink);\n",
              "        }\n",
              "      </script>\n",
              "    </div>\n",
              "  </div>\n",
              "  "
            ]
          },
          "metadata": {},
          "execution_count": 65
        }
      ]
    },
    {
      "cell_type": "code",
      "source": [
        "# split data into train and test sets\n",
        "seed = 7\n",
        "test_size = 0.20\n",
        "#Startification with respect to the Y so that the same percentage of all the classes will go in the test and train data\n",
        "X_train, X_test, y_train, y_test = train_test_split(onehot_encoded_X, Y, test_size=test_size, random_state=seed,stratify=Y)\n",
        "y_train.value_counts()"
      ],
      "metadata": {
        "colab": {
          "base_uri": "https://localhost:8080/"
        },
        "id": "wAZl3ptvzsac",
        "outputId": "6c273578-8f77-47ca-998e-1a3342cb6bf2"
      },
      "execution_count": null,
      "outputs": [
        {
          "output_type": "execute_result",
          "data": {
            "text/plain": [
              "Outcome           \n",
              "Nothing Suspicious    17511\n",
              "Detained               5279\n",
              "Warning                4807\n",
              "dtype: int64"
            ]
          },
          "metadata": {},
          "execution_count": 66
        }
      ]
    },
    {
      "cell_type": "code",
      "source": [
        "# fit model on XGBoost\n",
        "model = XGBClassifier()\n",
        "result = model.fit(X_train, y_train)\n",
        "print(result)\n",
        "# model.history()\n",
        "\n",
        "# make predictions for test data\n",
        "y_pred = model.predict(X_test)\n",
        "predictions = [value for value in y_pred]\n",
        "# # evaluate predictions\n",
        "# accuracy = accuracy_score(y_test, predictions)\n",
        "# print(\"Accuracy: %.2f%%\" % (accuracy * 100.0))"
      ],
      "metadata": {
        "id": "HYXKAP4C7bA1",
        "colab": {
          "base_uri": "https://localhost:8080/"
        },
        "outputId": "79aa69b8-0999-4f15-b842-16a6588d61be"
      },
      "execution_count": null,
      "outputs": [
        {
          "output_type": "stream",
          "name": "stderr",
          "text": [
            "/usr/local/lib/python3.7/dist-packages/sklearn/preprocessing/_label.py:98: DataConversionWarning: A column-vector y was passed when a 1d array was expected. Please change the shape of y to (n_samples, ), for example using ravel().\n",
            "  y = column_or_1d(y, warn=True)\n",
            "/usr/local/lib/python3.7/dist-packages/sklearn/preprocessing/_label.py:133: DataConversionWarning: A column-vector y was passed when a 1d array was expected. Please change the shape of y to (n_samples, ), for example using ravel().\n",
            "  y = column_or_1d(y, warn=True)\n"
          ]
        },
        {
          "output_type": "stream",
          "name": "stdout",
          "text": [
            "XGBClassifier(objective='multi:softprob')\n"
          ]
        }
      ]
    },
    {
      "cell_type": "code",
      "source": [
        "# Performance Matrices\n",
        "from sklearn.metrics import confusion_matrix\n",
        "print(\"Confusion Matrix\")\n",
        "print(confusion_matrix(y_test, y_pred))# Confusion Matrix\n",
        "from sklearn.metrics import accuracy_score\n",
        "print(\"Model Accuracy\")\n",
        "print(accuracy_score(y_test, y_pred))# Accuracy\n",
        "from sklearn.metrics import recall_score\n",
        "print(\"Recall\")\n",
        "print(recall_score(y_test, y_pred, average=None))# Recall\n",
        "from sklearn.metrics import precision_score\n",
        "print(\"Precision\")\n",
        "print(precision_score(y_test, y_pred, average=None))# Precision\n",
        "\n",
        "#F1 Score Measurement: Classification report [BONUS]\n",
        "from sklearn.metrics import classification_report\n",
        "print(\"Model Classification Report\")\n",
        "print(classification_report(y_test, y_pred, target_names=Y.Outcome.unique()))"
      ],
      "metadata": {
        "colab": {
          "base_uri": "https://localhost:8080/"
        },
        "id": "CCWZwW2R5Qbp",
        "outputId": "93f138c0-2e3b-4540-a6c4-3f58b23c0457"
      },
      "execution_count": null,
      "outputs": [
        {
          "output_type": "stream",
          "name": "stdout",
          "text": [
            "Confusion Matrix\n",
            "[[ 375  644  301]\n",
            " [ 170 3972  236]\n",
            " [ 155  541  506]]\n",
            "Model Accuracy\n",
            "0.7033333333333334\n",
            "Recall\n",
            "[0.28409091 0.90726359 0.42096506]\n",
            "Precision\n",
            "[0.53571429 0.77021524 0.48513902]\n",
            "Model Classification Report\n",
            "                    precision    recall  f1-score   support\n",
            "\n",
            "Nothing Suspicious       0.54      0.28      0.37      1320\n",
            "          Detained       0.77      0.91      0.83      4378\n",
            "           Warning       0.49      0.42      0.45      1202\n",
            "\n",
            "          accuracy                           0.70      6900\n",
            "         macro avg       0.60      0.54      0.55      6900\n",
            "      weighted avg       0.68      0.70      0.68      6900\n",
            "\n"
          ]
        }
      ]
    }
  ]
}